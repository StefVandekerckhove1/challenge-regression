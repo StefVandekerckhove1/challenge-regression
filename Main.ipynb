{
 "cells": [
  {
   "cell_type": "markdown",
   "metadata": {},
   "source": [
    "Installing python modules"
   ]
  },
  {
   "cell_type": "code",
   "execution_count": 2,
   "metadata": {},
   "outputs": [],
   "source": [
    "from sklearn.model_selection import train_test_split\n",
    "from sklearn.metrics import accuracy_score\n",
    "from sklearn.metrics import root_mean_squared_error, r2_score, mean_absolute_error\n",
    "import xgboost as xgb\n",
    "import numpy as np\n",
    "import pandas as pd\n",
    "import matplotlib.pyplot as plt\n",
    "from matplotlib.pyplot import figure\n",
    "import seaborn as sns"
   ]
  },
  {
   "cell_type": "markdown",
   "metadata": {},
   "source": [
    "# 1. Data cleaning"
   ]
  },
  {
   "cell_type": "markdown",
   "metadata": {},
   "source": [
    "Loading real estate data into pandas dataframe"
   ]
  },
  {
   "cell_type": "code",
   "execution_count": 3,
   "metadata": {},
   "outputs": [],
   "source": [
    "df=pd.read_csv(\"C:\\\\Users\\\\vande\\\\challenge-regression\\\\data\\\\real_estate_belgium.csv\")"
   ]
  },
  {
   "cell_type": "markdown",
   "metadata": {},
   "source": [
    "Loading and exploring the data"
   ]
  },
  {
   "cell_type": "code",
   "execution_count": 4,
   "metadata": {},
   "outputs": [
    {
     "data": {
      "text/html": [
       "<div>\n",
       "<style scoped>\n",
       "    .dataframe tbody tr th:only-of-type {\n",
       "        vertical-align: middle;\n",
       "    }\n",
       "\n",
       "    .dataframe tbody tr th {\n",
       "        vertical-align: top;\n",
       "    }\n",
       "\n",
       "    .dataframe thead th {\n",
       "        text-align: right;\n",
       "    }\n",
       "</style>\n",
       "<table border=\"1\" class=\"dataframe\">\n",
       "  <thead>\n",
       "    <tr style=\"text-align: right;\">\n",
       "      <th></th>\n",
       "      <th>Unnamed: 0</th>\n",
       "      <th>longitude</th>\n",
       "      <th>latitude</th>\n",
       "      <th>Postal_Code</th>\n",
       "      <th>Region</th>\n",
       "      <th>Province</th>\n",
       "      <th>Municipality</th>\n",
       "      <th>Price</th>\n",
       "      <th>Price_m2</th>\n",
       "      <th>Type_of_Property</th>\n",
       "      <th>Subtype_of_Property</th>\n",
       "      <th>State_of_the_Building</th>\n",
       "      <th>Number_of_Rooms</th>\n",
       "      <th>Living_Area</th>\n",
       "      <th>Fully_Equipped_Kitchen</th>\n",
       "      <th>Furnished</th>\n",
       "      <th>Open_fire</th>\n",
       "      <th>Terrace</th>\n",
       "      <th>Terrace_Area</th>\n",
       "      <th>Garden</th>\n",
       "      <th>Garden_Area</th>\n",
       "      <th>Number_of_Facades</th>\n",
       "      <th>Swimming_Pool</th>\n",
       "      <th>Disabled_Access</th>\n",
       "      <th>Lift</th>\n",
       "    </tr>\n",
       "  </thead>\n",
       "  <tbody>\n",
       "    <tr>\n",
       "      <th>0</th>\n",
       "      <td>0</td>\n",
       "      <td>4.376134</td>\n",
       "      <td>51.248448</td>\n",
       "      <td>2000</td>\n",
       "      <td>2</td>\n",
       "      <td>8</td>\n",
       "      <td>Antwerpen</td>\n",
       "      <td>895000</td>\n",
       "      <td>3129</td>\n",
       "      <td>1</td>\n",
       "      <td>DUPLEX</td>\n",
       "      <td>0</td>\n",
       "      <td>3</td>\n",
       "      <td>286</td>\n",
       "      <td>1</td>\n",
       "      <td>0</td>\n",
       "      <td>0</td>\n",
       "      <td>1</td>\n",
       "      <td>30</td>\n",
       "      <td>0</td>\n",
       "      <td>0</td>\n",
       "      <td>2</td>\n",
       "      <td>0</td>\n",
       "      <td>0</td>\n",
       "      <td>0</td>\n",
       "    </tr>\n",
       "    <tr>\n",
       "      <th>1</th>\n",
       "      <td>1</td>\n",
       "      <td>4.361370</td>\n",
       "      <td>50.789871</td>\n",
       "      <td>1180</td>\n",
       "      <td>0</td>\n",
       "      <td>0</td>\n",
       "      <td>Uccle</td>\n",
       "      <td>685000</td>\n",
       "      <td>5393</td>\n",
       "      <td>1</td>\n",
       "      <td>PENTHOUSE</td>\n",
       "      <td>2</td>\n",
       "      <td>2</td>\n",
       "      <td>127</td>\n",
       "      <td>0</td>\n",
       "      <td>0</td>\n",
       "      <td>0</td>\n",
       "      <td>1</td>\n",
       "      <td>55</td>\n",
       "      <td>0</td>\n",
       "      <td>0</td>\n",
       "      <td>4</td>\n",
       "      <td>0</td>\n",
       "      <td>0</td>\n",
       "      <td>1</td>\n",
       "    </tr>\n",
       "    <tr>\n",
       "      <th>2</th>\n",
       "      <td>3</td>\n",
       "      <td>3.708325</td>\n",
       "      <td>51.003447</td>\n",
       "      <td>9052</td>\n",
       "      <td>2</td>\n",
       "      <td>9</td>\n",
       "      <td>Gent</td>\n",
       "      <td>429210</td>\n",
       "      <td>4292</td>\n",
       "      <td>1</td>\n",
       "      <td>APARTMENT</td>\n",
       "      <td>0</td>\n",
       "      <td>2</td>\n",
       "      <td>100</td>\n",
       "      <td>1</td>\n",
       "      <td>0</td>\n",
       "      <td>0</td>\n",
       "      <td>1</td>\n",
       "      <td>12</td>\n",
       "      <td>0</td>\n",
       "      <td>0</td>\n",
       "      <td>3</td>\n",
       "      <td>0</td>\n",
       "      <td>0</td>\n",
       "      <td>1</td>\n",
       "    </tr>\n",
       "    <tr>\n",
       "      <th>3</th>\n",
       "      <td>5</td>\n",
       "      <td>4.047008</td>\n",
       "      <td>50.941781</td>\n",
       "      <td>9300</td>\n",
       "      <td>2</td>\n",
       "      <td>9</td>\n",
       "      <td>Aalst</td>\n",
       "      <td>359000</td>\n",
       "      <td>197</td>\n",
       "      <td>0</td>\n",
       "      <td>HOUSE</td>\n",
       "      <td>5</td>\n",
       "      <td>3</td>\n",
       "      <td>122</td>\n",
       "      <td>0</td>\n",
       "      <td>0</td>\n",
       "      <td>0</td>\n",
       "      <td>1</td>\n",
       "      <td>30</td>\n",
       "      <td>1</td>\n",
       "      <td>1700</td>\n",
       "      <td>2</td>\n",
       "      <td>0</td>\n",
       "      <td>0</td>\n",
       "      <td>0</td>\n",
       "    </tr>\n",
       "    <tr>\n",
       "      <th>4</th>\n",
       "      <td>7</td>\n",
       "      <td>3.720262</td>\n",
       "      <td>51.053261</td>\n",
       "      <td>9000</td>\n",
       "      <td>2</td>\n",
       "      <td>9</td>\n",
       "      <td>Gent</td>\n",
       "      <td>560000</td>\n",
       "      <td>3684</td>\n",
       "      <td>0</td>\n",
       "      <td>HOUSE</td>\n",
       "      <td>6</td>\n",
       "      <td>4</td>\n",
       "      <td>152</td>\n",
       "      <td>0</td>\n",
       "      <td>0</td>\n",
       "      <td>0</td>\n",
       "      <td>1</td>\n",
       "      <td>23</td>\n",
       "      <td>0</td>\n",
       "      <td>0</td>\n",
       "      <td>2</td>\n",
       "      <td>0</td>\n",
       "      <td>0</td>\n",
       "      <td>1</td>\n",
       "    </tr>\n",
       "  </tbody>\n",
       "</table>\n",
       "</div>"
      ],
      "text/plain": [
       "   Unnamed: 0  longitude   latitude  ...  Swimming_Pool  Disabled_Access  Lift\n",
       "0           0   4.376134  51.248448  ...              0                0     0\n",
       "1           1   4.361370  50.789871  ...              0                0     1\n",
       "2           3   3.708325  51.003447  ...              0                0     1\n",
       "3           5   4.047008  50.941781  ...              0                0     0\n",
       "4           7   3.720262  51.053261  ...              0                0     1\n",
       "\n",
       "[5 rows x 25 columns]"
      ]
     },
     "execution_count": 4,
     "metadata": {},
     "output_type": "execute_result"
    }
   ],
   "source": [
    "df.describe()\n",
    "df.head() # No duplicates and no NAN's "
   ]
  },
  {
   "cell_type": "markdown",
   "metadata": {},
   "source": [
    "# 2: Features engineering"
   ]
  },
  {
   "cell_type": "markdown",
   "metadata": {},
   "source": [
    "Keep column features which have high correlation coefficients"
   ]
  },
  {
   "cell_type": "code",
   "execution_count": 5,
   "metadata": {},
   "outputs": [],
   "source": [
    "df = df[[\"Municipality\", \"Price\", \"Living_Area\", \"Number_of_Rooms\", \"Fully_Equipped_Kitchen\", \"Terrace_Area\"]]"
   ]
  },
  {
   "cell_type": "code",
   "execution_count": 6,
   "metadata": {},
   "outputs": [
    {
     "data": {
      "text/html": [
       "<div>\n",
       "<style scoped>\n",
       "    .dataframe tbody tr th:only-of-type {\n",
       "        vertical-align: middle;\n",
       "    }\n",
       "\n",
       "    .dataframe tbody tr th {\n",
       "        vertical-align: top;\n",
       "    }\n",
       "\n",
       "    .dataframe thead th {\n",
       "        text-align: right;\n",
       "    }\n",
       "</style>\n",
       "<table border=\"1\" class=\"dataframe\">\n",
       "  <thead>\n",
       "    <tr style=\"text-align: right;\">\n",
       "      <th></th>\n",
       "      <th>Price</th>\n",
       "      <th>Living_Area</th>\n",
       "      <th>Number_of_Rooms</th>\n",
       "      <th>Fully_Equipped_Kitchen</th>\n",
       "      <th>Terrace_Area</th>\n",
       "    </tr>\n",
       "  </thead>\n",
       "  <tbody>\n",
       "    <tr>\n",
       "      <th>count</th>\n",
       "      <td>5.989000e+03</td>\n",
       "      <td>5989.000000</td>\n",
       "      <td>5989.000000</td>\n",
       "      <td>5989.000000</td>\n",
       "      <td>5989.000000</td>\n",
       "    </tr>\n",
       "    <tr>\n",
       "      <th>mean</th>\n",
       "      <td>4.023257e+05</td>\n",
       "      <td>131.432960</td>\n",
       "      <td>2.535148</td>\n",
       "      <td>0.278845</td>\n",
       "      <td>19.201870</td>\n",
       "    </tr>\n",
       "    <tr>\n",
       "      <th>std</th>\n",
       "      <td>2.224666e+05</td>\n",
       "      <td>70.267915</td>\n",
       "      <td>1.143061</td>\n",
       "      <td>0.448468</td>\n",
       "      <td>21.059055</td>\n",
       "    </tr>\n",
       "    <tr>\n",
       "      <th>min</th>\n",
       "      <td>3.000000e+04</td>\n",
       "      <td>17.000000</td>\n",
       "      <td>0.000000</td>\n",
       "      <td>0.000000</td>\n",
       "      <td>1.000000</td>\n",
       "    </tr>\n",
       "    <tr>\n",
       "      <th>25%</th>\n",
       "      <td>2.490000e+05</td>\n",
       "      <td>86.000000</td>\n",
       "      <td>2.000000</td>\n",
       "      <td>0.000000</td>\n",
       "      <td>7.000000</td>\n",
       "    </tr>\n",
       "    <tr>\n",
       "      <th>50%</th>\n",
       "      <td>3.450000e+05</td>\n",
       "      <td>110.000000</td>\n",
       "      <td>2.000000</td>\n",
       "      <td>0.000000</td>\n",
       "      <td>13.000000</td>\n",
       "    </tr>\n",
       "    <tr>\n",
       "      <th>75%</th>\n",
       "      <td>4.800000e+05</td>\n",
       "      <td>159.000000</td>\n",
       "      <td>3.000000</td>\n",
       "      <td>1.000000</td>\n",
       "      <td>24.000000</td>\n",
       "    </tr>\n",
       "    <tr>\n",
       "      <th>max</th>\n",
       "      <td>1.335000e+06</td>\n",
       "      <td>547.000000</td>\n",
       "      <td>7.000000</td>\n",
       "      <td>1.000000</td>\n",
       "      <td>215.000000</td>\n",
       "    </tr>\n",
       "  </tbody>\n",
       "</table>\n",
       "</div>"
      ],
      "text/plain": [
       "              Price  Living_Area  ...  Fully_Equipped_Kitchen  Terrace_Area\n",
       "count  5.989000e+03  5989.000000  ...             5989.000000   5989.000000\n",
       "mean   4.023257e+05   131.432960  ...                0.278845     19.201870\n",
       "std    2.224666e+05    70.267915  ...                0.448468     21.059055\n",
       "min    3.000000e+04    17.000000  ...                0.000000      1.000000\n",
       "25%    2.490000e+05    86.000000  ...                0.000000      7.000000\n",
       "50%    3.450000e+05   110.000000  ...                0.000000     13.000000\n",
       "75%    4.800000e+05   159.000000  ...                1.000000     24.000000\n",
       "max    1.335000e+06   547.000000  ...                1.000000    215.000000\n",
       "\n",
       "[8 rows x 5 columns]"
      ]
     },
     "execution_count": 6,
     "metadata": {},
     "output_type": "execute_result"
    }
   ],
   "source": [
    "df.describe()"
   ]
  },
  {
   "cell_type": "markdown",
   "metadata": {},
   "source": [
    "# 3: Data formatting"
   ]
  },
  {
   "cell_type": "markdown",
   "metadata": {},
   "source": [
    "## Create XGBoost regression matrices"
   ]
  },
  {
   "cell_type": "code",
   "execution_count": 7,
   "metadata": {},
   "outputs": [],
   "source": [
    "# Extract feature and target arrays\n",
    "\n",
    "X, y = df.drop('Price', axis=1), df[['Price']]"
   ]
  },
  {
   "cell_type": "code",
   "execution_count": 8,
   "metadata": {},
   "outputs": [],
   "source": [
    "# Extract text features\n",
    "cats = X.select_dtypes(exclude=np.number).columns.tolist()\n",
    "\n",
    "# Convert to Pandas category\n",
    "for col in cats:\n",
    "   X[col] = X[col].astype('category')"
   ]
  },
  {
   "cell_type": "code",
   "execution_count": 9,
   "metadata": {},
   "outputs": [
    {
     "data": {
      "text/plain": [
       "Municipality              category\n",
       "Living_Area                  int64\n",
       "Number_of_Rooms              int64\n",
       "Fully_Equipped_Kitchen       int64\n",
       "Terrace_Area                 int64\n",
       "dtype: object"
      ]
     },
     "execution_count": 9,
     "metadata": {},
     "output_type": "execute_result"
    }
   ],
   "source": [
    "X.dtypes"
   ]
  },
  {
   "cell_type": "code",
   "execution_count": 10,
   "metadata": {},
   "outputs": [],
   "source": [
    "# split dataset into training and test data\n",
    "\n",
    "X_train, X_test, y_train, y_test = train_test_split(X, y, test_size = 0.2, random_state=1)"
   ]
  },
  {
   "cell_type": "code",
   "execution_count": 11,
   "metadata": {},
   "outputs": [],
   "source": [
    "# Create regression matrices\n",
    "\n",
    "dtrain_reg = xgb.DMatrix(X_train, y_train, enable_categorical=True)\n",
    "dtest_reg = xgb.DMatrix(X_test, y_test, enable_categorical=True)"
   ]
  },
  {
   "cell_type": "markdown",
   "metadata": {},
   "source": [
    "## XGBoost regression"
   ]
  },
  {
   "cell_type": "markdown",
   "metadata": {},
   "source": [
    "### Training data"
   ]
  },
  {
   "cell_type": "code",
   "execution_count": 12,
   "metadata": {},
   "outputs": [],
   "source": [
    "# Define hyperparameters\n",
    "params = {\"objective\": \"reg:squarederror\", \"tree_method\": \"hist\", \"device\":\"cuda\"}\n",
    "\n",
    "n = 100\n",
    "model = xgb.train(\n",
    "   params=params,\n",
    "   dtrain=dtrain_reg,\n",
    "   num_boost_round=n,\n",
    ")"
   ]
  },
  {
   "cell_type": "markdown",
   "metadata": {},
   "source": [
    "### Model evaluation with r², rmse (root mean squared error), and mae (mean absolute error)"
   ]
  },
  {
   "cell_type": "code",
   "execution_count": null,
   "metadata": {},
   "outputs": [
    {
     "name": "stdout",
     "output_type": "stream",
     "text": [
      "R-squared: 0.69, RMSE: 121441, MAE: 79871 for test data in base model\n"
     ]
    }
   ],
   "source": [
    "# model prediction\n",
    "\n",
    "preds = model.predict(dtest_reg)\n",
    "\n",
    "rmse = root_mean_squared_error(y_test, preds)\n",
    "\n",
    "r2 = r2_score(y_test, preds)\n",
    "\n",
    "mae = mean_absolute_error(y_test, preds)\n",
    "\n",
    "print(f\"R-squared: {r2:.2f}, RMSE: {rmse:.0f}, MAE: {mae:.0f} for test data in base model.\")"
   ]
  },
  {
   "cell_type": "code",
   "execution_count": 37,
   "metadata": {},
   "outputs": [
    {
     "name": "stdout",
     "output_type": "stream",
     "text": [
      "[ 435225.84  168039.97  818524.9  ...  339885.47  375451.2  1101589.5 ]         Price\n",
      "5787   499000\n",
      "5406   229000\n",
      "3296   965000\n",
      "3731   545000\n",
      "496    299000\n",
      "...       ...\n",
      "4220   395000\n",
      "4893   380000\n",
      "5694   399000\n",
      "5222   320000\n",
      "2379  1325000\n",
      "\n",
      "[1198 rows x 1 columns]\n"
     ]
    }
   ],
   "source": [
    "print(preds, y_test)"
   ]
  },
  {
   "cell_type": "markdown",
   "metadata": {},
   "source": [
    "### Using Validation Sets During Training"
   ]
  },
  {
   "cell_type": "code",
   "execution_count": 15,
   "metadata": {},
   "outputs": [],
   "source": [
    "# set up the parameters\n",
    "\n",
    "params = {\"objective\": \"reg:squarederror\", \"tree_method\": \"hist\", \"device\":\"cuda\"}\n",
    "n = 100"
   ]
  },
  {
   "cell_type": "code",
   "execution_count": 16,
   "metadata": {},
   "outputs": [],
   "source": [
    "# setup list of two tuples that each contain two elements. \n",
    "# The first element is the array for the model to evaluate, and the second is the array’s name.\n",
    "\n",
    "evals = [(dtrain_reg, \"train\"), (dtest_reg, \"validation\")]"
   ]
  },
  {
   "cell_type": "code",
   "execution_count": 17,
   "metadata": {},
   "outputs": [
    {
     "name": "stdout",
     "output_type": "stream",
     "text": [
      "[0]\ttrain-rmse:178015.25831\tvalidation-rmse:177975.54085\n",
      "[10]\ttrain-rmse:93136.04399\tvalidation-rmse:120108.19564\n",
      "[20]\ttrain-rmse:82401.22590\tvalidation-rmse:119377.05310\n",
      "[30]\ttrain-rmse:75292.63055\tvalidation-rmse:119298.63039\n",
      "[40]\ttrain-rmse:69632.97701\tvalidation-rmse:119936.64194\n",
      "[50]\ttrain-rmse:64085.33069\tvalidation-rmse:120574.88242\n",
      "[60]\ttrain-rmse:59694.25142\tvalidation-rmse:121141.51884\n",
      "[70]\ttrain-rmse:55618.63816\tvalidation-rmse:121816.02915\n",
      "[80]\ttrain-rmse:51436.35349\tvalidation-rmse:122265.98600\n",
      "[90]\ttrain-rmse:47755.32680\tvalidation-rmse:122438.89363\n",
      "[99]\ttrain-rmse:46293.61676\tvalidation-rmse:122406.58757\n"
     ]
    }
   ],
   "source": [
    "# pass this array to the evals parameter of xgb.train, we will see the model performance after each boosting round:\n",
    "\n",
    "evals = [(dtrain_reg, \"train\"), (dtest_reg, \"validation\")]\n",
    "\n",
    "model = xgb.train(\n",
    "   params=params,\n",
    "   dtrain=dtrain_reg,\n",
    "   num_boost_round=n,\n",
    "   evals=evals,\n",
    "   verbose_eval=10 # Every ten rounds\n",
    ")"
   ]
  },
  {
   "cell_type": "markdown",
   "metadata": {},
   "source": [
    "## XGBoost early stopping"
   ]
  },
  {
   "cell_type": "markdown",
   "metadata": {},
   "source": [
    "Generally, the more rounds there are, the more XGBoost tries to minimize the loss. \n",
    "\n",
    "But this doesn’t mean the loss will always go down. Let’s try with 5000 boosting rounds with the verbosity of 500:"
   ]
  },
  {
   "cell_type": "code",
   "execution_count": 18,
   "metadata": {},
   "outputs": [
    {
     "name": "stdout",
     "output_type": "stream",
     "text": [
      "[0]\ttrain-rmse:178015.25831\tvalidation-rmse:177975.54085\n"
     ]
    },
    {
     "name": "stdout",
     "output_type": "stream",
     "text": [
      "[250]\ttrain-rmse:24243.73656\tvalidation-rmse:124788.42676\n",
      "[500]\ttrain-rmse:13150.22927\tvalidation-rmse:126379.28873\n",
      "[750]\ttrain-rmse:10249.00327\tvalidation-rmse:127134.19673\n",
      "[1000]\ttrain-rmse:9532.54570\tvalidation-rmse:127294.27331\n",
      "[1250]\ttrain-rmse:9347.26903\tvalidation-rmse:127416.80131\n",
      "[1500]\ttrain-rmse:9296.95162\tvalidation-rmse:127467.77404\n",
      "[1750]\ttrain-rmse:9282.82692\tvalidation-rmse:127495.95251\n",
      "[2000]\ttrain-rmse:9278.87116\tvalidation-rmse:127512.27162\n",
      "[2250]\ttrain-rmse:9277.77589\tvalidation-rmse:127519.09427\n",
      "[2500]\ttrain-rmse:9277.40737\tvalidation-rmse:127522.64952\n",
      "[2750]\ttrain-rmse:9277.31155\tvalidation-rmse:127524.10784\n",
      "[3000]\ttrain-rmse:9277.28076\tvalidation-rmse:127524.95102\n",
      "[3250]\ttrain-rmse:9277.27009\tvalidation-rmse:127525.41610\n",
      "[3500]\ttrain-rmse:9277.26735\tvalidation-rmse:127525.70015\n",
      "[3750]\ttrain-rmse:9277.26664\tvalidation-rmse:127525.84853\n",
      "[4000]\ttrain-rmse:9277.26641\tvalidation-rmse:127525.88860\n",
      "[4250]\ttrain-rmse:9277.26630\tvalidation-rmse:127525.94380\n",
      "[4500]\ttrain-rmse:9277.26631\tvalidation-rmse:127525.95691\n",
      "[4750]\ttrain-rmse:9277.26630\tvalidation-rmse:127525.96383\n",
      "[4999]\ttrain-rmse:9277.26628\tvalidation-rmse:127525.96224\n"
     ]
    }
   ],
   "source": [
    "params = {\"objective\": \"reg:squarederror\", \"tree_method\": \"hist\", \"device\":\"cuda\"}\n",
    "n = 5000\n",
    "\n",
    "evals = [(dtrain_reg, \"train\"), (dtest_reg, \"validation\")]\n",
    "\n",
    "model = xgb.train(\n",
    "   params=params,\n",
    "   dtrain=dtrain_reg,\n",
    "   num_boost_round=n,\n",
    "   evals=evals,\n",
    "   verbose_eval=250 # Every ten rounds\n",
    ")\n"
   ]
  },
  {
   "cell_type": "markdown",
   "metadata": {},
   "source": [
    "We want the golden middle: a model that learned just enough patterns in training that it gives the highest performance on the validation set. So, how do we find the perfect number of boosting rounds, then?\n",
    "\n",
    "We will use a technique called early stopping. Early stopping forces XGBoost to watch the validation loss, and if it stops improving for a specified number of rounds, it automatically stops training.\n",
    "\n",
    "This means we can set as high a number of boosting rounds as long as we set a sensible number of early stopping rounds."
   ]
  },
  {
   "cell_type": "code",
   "execution_count": 19,
   "metadata": {},
   "outputs": [
    {
     "name": "stdout",
     "output_type": "stream",
     "text": [
      "[0]\ttrain-rmse:178015.25831\tvalidation-rmse:177975.54085\n",
      "[10]\ttrain-rmse:93136.04399\tvalidation-rmse:120108.19564\n",
      "[20]\ttrain-rmse:82401.22590\tvalidation-rmse:119377.05310\n",
      "[30]\ttrain-rmse:75292.63055\tvalidation-rmse:119298.63039\n",
      "[40]\ttrain-rmse:69632.97701\tvalidation-rmse:119936.64194\n",
      "[50]\ttrain-rmse:64085.33069\tvalidation-rmse:120574.88242\n",
      "[60]\ttrain-rmse:59694.25142\tvalidation-rmse:121141.51884\n",
      "[66]\ttrain-rmse:56942.23890\tvalidation-rmse:121441.39700\n"
     ]
    }
   ],
   "source": [
    "params = {\"objective\": \"reg:squarederror\", \"tree_method\": \"hist\", \"device\":\"cuda\"}\n",
    "n = 10000\n",
    "\n",
    "evals = [(dtrain_reg, \"train\"), (dtest_reg, \"validation\")]\n",
    "\n",
    "model = xgb.train(\n",
    "   params=params,\n",
    "   dtrain=dtrain_reg,\n",
    "   num_boost_round=n,\n",
    "   evals=evals,\n",
    "   verbose_eval=10,\n",
    "   # Activate early stopping\n",
    "   early_stopping_rounds = 50\n",
    "\n",
    ")\n"
   ]
  },
  {
   "cell_type": "markdown",
   "metadata": {},
   "source": [
    "## XGBoost Cross-Validation"
   ]
  },
  {
   "cell_type": "markdown",
   "metadata": {},
   "source": [
    "Since we try to find the best value of a hyperparameter by comparing the validation performance of the model on the test set, \n",
    "we will end up with a model that is configured to perform well only on that particular test set. \n",
    "\n",
    "Instead, we want a model that performs well across the board — on any test set we throw at it.\n",
    "\n",
    "A possible workaround is splitting the data into three sets. The model trains on the first set, the second set is used for evaluation and hyperparameter tuning, and the third is the final one we test the model before production.\n",
    "\n",
    "But when data is limited, splitting data into three sets will make the training set sparse, which hurts model performance.\n",
    "\n",
    "The solution to all these problems is cross-validation. In cross-validation, we still have two sets: training and testing."
   ]
  },
  {
   "cell_type": "code",
   "execution_count": null,
   "metadata": {},
   "outputs": [],
   "source": [
    "# While the test set waits in the corner, we split the training into 3, 5, 7, or k splits or folds. \n",
    "# Then, we train the model k times. Each time, we use k-1 parts for training and the final kth part for validation. \n",
    "# This process is called k-fold cross-validation:\n",
    "\n",
    "params = {\"objective\": \"reg:squarederror\", \"tree_method\": \"hist\", \"device\":\"cuda\"}\n",
    "n = 1000\n",
    "\n",
    "results = xgb.cv(\n",
    "   params, dtrain_reg,\n",
    "   num_boost_round=n, \n",
    "   nfold=5, # specify the number of splits\n",
    "   early_stopping_rounds=20\n",
    ")"
   ]
  },
  {
   "cell_type": "code",
   "execution_count": 21,
   "metadata": {},
   "outputs": [
    {
     "name": "stdout",
     "output_type": "stream",
     "text": [
      "123513.51370391701\n"
     ]
    }
   ],
   "source": [
    "# It has the same number of rows as the number of boosting rounds. \n",
    "\n",
    "# Each row is the average of all splits for that round. So, to find the best score, we take the minimum of the test-rmse-mean column:\n",
    "\n",
    "best_rmse = results['test-rmse-mean'].min()\n",
    "\n",
    "print(best_rmse)"
   ]
  },
  {
   "cell_type": "code",
   "execution_count": 34,
   "metadata": {},
   "outputs": [
    {
     "name": "stdout",
     "output_type": "stream",
     "text": [
      "R-squared: 0.69, RMSE: 121441, MAE: 79871 for test data in base model.\n"
     ]
    }
   ],
   "source": [
    "# model prediction\n",
    "\n",
    "preds = model.predict(dtest_reg)\n",
    "\n",
    "rmse = root_mean_squared_error(y_test, preds)\n",
    "\n",
    "r2 = r2_score(y_test, preds)\n",
    "\n",
    "mae = mean_absolute_error(y_test, preds)\n",
    "\n",
    "print(f\"R-squared: {r2:.2f}, RMSE: {rmse:.0f}, MAE: {mae:.0f} for test data in base model.\")"
   ]
  }
 ],
 "metadata": {
  "kernelspec": {
   "display_name": "Python 3",
   "language": "python",
   "name": "python3"
  },
  "language_info": {
   "codemirror_mode": {
    "name": "ipython",
    "version": 3
   },
   "file_extension": ".py",
   "mimetype": "text/x-python",
   "name": "python",
   "nbconvert_exporter": "python",
   "pygments_lexer": "ipython3",
   "version": "3.13.0"
  }
 },
 "nbformat": 4,
 "nbformat_minor": 2
}
